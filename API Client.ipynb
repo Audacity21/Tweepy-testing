{
 "cells": [
  {
   "cell_type": "code",
   "execution_count": 1,
   "id": "17460770",
   "metadata": {},
   "outputs": [],
   "source": [
    "import tweepy\n",
    "import webbrowser\n",
    "import config"
   ]
  },
  {
   "cell_type": "code",
   "execution_count": 2,
   "id": "1ea9cf77",
   "metadata": {},
   "outputs": [],
   "source": [
    "callback_uri = 'oob'"
   ]
  },
  {
   "cell_type": "code",
   "execution_count": 3,
   "id": "91060a36",
   "metadata": {},
   "outputs": [],
   "source": [
    "auth = tweepy.OAuth1UserHandler(config.API_KEY, config.API_SECRET, callback=callback_uri)"
   ]
  },
  {
   "cell_type": "code",
   "execution_count": 4,
   "id": "ed689843",
   "metadata": {},
   "outputs": [],
   "source": [
    "redirect_url = auth.get_authorization_url()"
   ]
  },
  {
   "cell_type": "code",
   "execution_count": 5,
   "id": "aa9d995a",
   "metadata": {},
   "outputs": [
    {
     "data": {
      "text/plain": [
       "True"
      ]
     },
     "execution_count": 5,
     "metadata": {},
     "output_type": "execute_result"
    }
   ],
   "source": [
    "webbrowser.open(redirect_url)"
   ]
  },
  {
   "cell_type": "code",
   "execution_count": 6,
   "id": "d675ce4e",
   "metadata": {},
   "outputs": [
    {
     "name": "stdout",
     "output_type": "stream",
     "text": [
      "Enter your pin: 6416333\n"
     ]
    }
   ],
   "source": [
    "user_pin = input(\"Enter your pin: \")"
   ]
  },
  {
   "cell_type": "code",
   "execution_count": 7,
   "id": "08b0ecd6",
   "metadata": {},
   "outputs": [],
   "source": [
    "ACCESS_TOKEN, ACCESS_SECRET = auth.get_access_token(user_pin)"
   ]
  },
  {
   "cell_type": "code",
   "execution_count": 8,
   "id": "2e5f90d5",
   "metadata": {},
   "outputs": [],
   "source": [
    "client = tweepy.Client(consumer_key=config.API_KEY,consumer_secret=config.API_SECRET, access_token=ACCESS_TOKEN, access_token_secret=ACCESS_SECRET)"
   ]
  },
  {
   "cell_type": "code",
   "execution_count": 9,
   "id": "e1498ca0",
   "metadata": {},
   "outputs": [
    {
     "name": "stdout",
     "output_type": "stream",
     "text": [
      "Response(data={'id': '1527142833580539905', 'text': '.'}, includes={}, errors=[], meta={})\n"
     ]
    }
   ],
   "source": [
    "response = client.create_tweet(text=\".\")\n",
    "print(response)"
   ]
  }
 ],
 "metadata": {
  "kernelspec": {
   "display_name": "Python 3 (ipykernel)",
   "language": "python",
   "name": "python3"
  },
  "language_info": {
   "codemirror_mode": {
    "name": "ipython",
    "version": 3
   },
   "file_extension": ".py",
   "mimetype": "text/x-python",
   "name": "python",
   "nbconvert_exporter": "python",
   "pygments_lexer": "ipython3",
   "version": "3.10.2"
  }
 },
 "nbformat": 4,
 "nbformat_minor": 5
}
